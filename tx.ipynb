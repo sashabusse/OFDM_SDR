{
 "cells": [
  {
   "cell_type": "code",
   "execution_count": 1,
   "id": "0da6184b",
   "metadata": {},
   "outputs": [],
   "source": [
    "import sys\n",
    "import pmt\n",
    "import zmq\n",
    "import time\n",
    "\n",
    "import numpy as np\n",
    "\n",
    "from gnuradio import OFDM_OOT"
   ]
  },
  {
   "cell_type": "code",
   "execution_count": 2,
   "id": "83103e84",
   "metadata": {},
   "outputs": [],
   "source": [
    "# ofdm cfg\n",
    "nfft = 256\n",
    "frame_sym_cnt = 16\n",
    "\n",
    "f_norm_min = 0.1\n",
    "f_norm_max = 0.26\n",
    "\n",
    "pilot_idx_group_0 = np.arange(f_norm_min*nfft, f_norm_max*nfft, 4, dtype=int)\n",
    "pilot_idx_group_1 = nfft + np.arange(-f_norm_min*nfft, -f_norm_max*nfft, -4, dtype=int)\n",
    "pilot_idx = np.hstack([pilot_idx_group_0 , pilot_idx_group_1])\n",
    "\n",
    "pilot_vals_group_0 = 1.4 * np.exp(-2j*np.pi*np.arange(pilot_idx_group_0.size)/2)\n",
    "pilot_vals_group_1 = 1.4 * np.exp(-2j*np.pi*np.arange(pilot_idx_group_1.size)/2)\n",
    "pilot_vals = np.hstack([pilot_vals_group_0, pilot_vals_group_1])\n",
    "\n",
    "data_idx = np.setdiff1d(np.hstack([np.arange(f_norm_min*nfft, f_norm_max*nfft, dtype=int) , np.arange(-f_norm_min*nfft, -f_norm_max*nfft, -1, dtype=int)]), pilot_idx)[:-1]"
   ]
  },
  {
   "cell_type": "code",
   "execution_count": 3,
   "id": "089243c2",
   "metadata": {},
   "outputs": [],
   "source": [
    "zmq_context = zmq.Context()\n",
    "\n",
    "tx_bytes_socket_addr = \"tcp://127.0.0.1:55554\"\n",
    "tx_frame_socket_addr = \"tcp://127.0.0.1:55555\"\n",
    "rx_bytes_socket_addr = \"tcp://127.0.0.1:55556\"\n",
    "rx_frame_socket_addr = \"tcp://127.0.0.1:55557\"\n",
    "\n",
    "tx_bytes_socket = zmq_context.socket(zmq.PUB)\n",
    "tx_bytes_socket.bind(tx_bytes_socket_addr)\n",
    "\n",
    "tx_frame_socket = zmq_context.socket(zmq.PUB)\n",
    "tx_frame_socket.bind(tx_frame_socket_addr)\n",
    "\n",
    "rx_bytes_socket = zmq_context.socket(zmq.SUB)\n",
    "rx_bytes_socket.connect(rx_bytes_socket_addr)\n",
    "rx_bytes_socket.setsockopt(zmq.SUBSCRIBE, b'')\n",
    "\n",
    "rx_frame_socket = zmq_context.socket(zmq.SUB)\n",
    "rx_frame_socket.connect(rx_frame_socket_addr)\n",
    "rx_frame_socket.setsockopt(zmq.SUBSCRIBE, b'')"
   ]
  },
  {
   "cell_type": "code",
   "execution_count": 4,
   "id": "e9287645",
   "metadata": {},
   "outputs": [],
   "source": [
    "def send_frame(symbols=None):\n",
    "    if symbols is None:\n",
    "        symbols = np.zeros((frame_sym_cnt, nfft), dtype=np.complex64)\n",
    "        for i in range(frame_sym_cnt):\n",
    "            symbols[i] = OFDM_OOT.random_ofdm_sym(nfft, data_idx, pilot_idx, pilot_vals, data_modulation='qpsk')\n",
    "    \n",
    "    else:\n",
    "        assert symbols.dtype==np.complex64\n",
    "    \n",
    "    tx_frame_socket.send(symbols.flatten())\n",
    "\n",
    "    \n",
    "def recv_frame(timeout=None):\n",
    "    if rx_socket.poll(timeout) != 0:\n",
    "        byte_data = rx_frame_socket.recv()\n",
    "        complex_data = np.frombuffer(rx_frame, dtype=np.complex64, count=-1).reshape((-1, nfft))\n",
    "    else:\n",
    "        return None\n",
    "    \n",
    "    assert complex_data.shape==(frame_sym_cnt, nfft)\n",
    "    \n",
    "    return complex_data\n",
    "\n",
    "\n",
    "def send_bytes(data):\n",
    "    tx_bytes_socket.send(data)\n",
    "\n",
    "    \n",
    "def recv_bytes(timeout=None):\n",
    "    if rx_socket.poll(timeout) != 0:\n",
    "        byte_data = rx_bytes_socket.recv()\n",
    "    else:\n",
    "        return None\n",
    "    \n",
    "    return byte_data"
   ]
  },
  {
   "cell_type": "code",
   "execution_count": 5,
   "id": "4df360cb",
   "metadata": {},
   "outputs": [],
   "source": [
    "bits_per_iq = 2\n",
    "bits_per_frame = bits_per_iq*data_idx.size*frame_sym_cnt\n",
    "assert bits_per_frame%8==0\n",
    "bytes_per_frame = bits_per_frame//8\n",
    "\n",
    "frame_data = np.random.randint(0, 2**8, bytes_per_frame, dtype=np.uint8)"
   ]
  },
  {
   "cell_type": "code",
   "execution_count": 20,
   "id": "9a7025f5",
   "metadata": {},
   "outputs": [],
   "source": [
    "tx_bytes_socket.send(frame_data)"
   ]
  },
  {
   "cell_type": "code",
   "execution_count": 21,
   "id": "fc308650",
   "metadata": {},
   "outputs": [
    {
     "data": {
      "text/plain": [
       "(1, 280)"
      ]
     },
     "execution_count": 21,
     "metadata": {},
     "output_type": "execute_result"
    }
   ],
   "source": [
    "rx_data = np.frombuffer(rx_bytes_socket.recv(), dtype=np.uint8, count=-1).reshape((-1, bytes_per_frame))\n",
    "rx_data.shape"
   ]
  },
  {
   "cell_type": "code",
   "execution_count": 23,
   "id": "ffc0fd39",
   "metadata": {},
   "outputs": [
    {
     "data": {
      "text/plain": [
       "array([[ 64,   0, 128, 192,   0, 192,  64,  64,  64,  64,   0,   0,   0,\n",
       "          0,   0,   0,   0, 244,   4, 252,  12, 244,   8, 252,   4, 248,\n",
       "          8, 252,   0,   0,   0,   0,   0,   0,   0, 192,   0, 128, 192,\n",
       "        192,   0, 192,  64,   0,   0,   0,   0,   0,   0,   0,   0,   0,\n",
       "        244,  12, 244,  12,   0,  12, 244,   4, 252,   8, 252,   0,   0,\n",
       "          0,   0,   0,   0,   0,   0, 128,  64, 128,  64,   0,   0, 192,\n",
       "          0, 128, 192,   0,   0,   0,   0,   0,   0,   8,   0,   4,   4,\n",
       "          8, 252,   8, 252,   0,   0,   8,   0,   0,   0,   0,   0,   0,\n",
       "          0, 192,   0, 128,  64, 128,   0,   0, 192,   0, 192, 192,   0,\n",
       "          0,   0,   0,   0,   0, 252,   4, 252, 252,   8, 248,   8, 252,\n",
       "          4, 252,   8,   0,   0,   0,   0,   0,   0,   0,  64,   0, 128,\n",
       "         64,   0, 192, 128,  64, 128, 192,  64,   0,   0,   0,   0,   0,\n",
       "          0, 252,   0,   4, 248,   4, 252, 252,   4,   0,   0,   4,   0,\n",
       "          0,   0,   0,   0,   0,   0, 128,  64,  64,  64, 128, 192,   0,\n",
       "         64,  64,  64,  64,   0,   0,   0,   0,   0,   0,   0,   0, 244,\n",
       "          4, 248,  12,   0,   0, 252,   0, 252,   0,   0,   0,   0,   0,\n",
       "          0,   0,  64, 128,  64,  64,  64,   0, 128, 128, 128,   0,   0,\n",
       "          0,   0,   0,   0,   0,   0, 252,   4,   0,  12, 252,   0, 252,\n",
       "          8, 248,  12, 248,   0,   0,   0,   0,   0,   0,   0, 192,   0,\n",
       "         64,  64,   0,  64,  64,  64, 128,   0, 192,   0,   0,   0,   0,\n",
       "          0,   0,   0,   0, 252,   4, 244,   0, 252,   0, 248,   8, 252,\n",
       "          0,   0,   0,   0,   0,   0,   0]], dtype=uint8)"
      ]
     },
     "execution_count": 23,
     "metadata": {},
     "output_type": "execute_result"
    }
   ],
   "source": [
    "frame_data-rx_data"
   ]
  },
  {
   "cell_type": "code",
   "execution_count": 22,
   "id": "b5e984f0",
   "metadata": {},
   "outputs": [
    {
     "name": "stdout",
     "output_type": "stream",
     "text": [
      "328\n",
      "0.14642857142857144\n"
     ]
    }
   ],
   "source": [
    "total = 0\n",
    "for diff in frame_data - rx_data[0]:\n",
    "    total += bin(diff).count('1')\n",
    "\n",
    "print(total)\n",
    "print(total/(bits_per_frame))"
   ]
  },
  {
   "cell_type": "code",
   "execution_count": 14,
   "id": "622af2f6",
   "metadata": {},
   "outputs": [
    {
     "data": {
      "text/plain": [
       "'0b1000111'"
      ]
     },
     "execution_count": 14,
     "metadata": {},
     "output_type": "execute_result"
    }
   ],
   "source": [
    "bin(71)"
   ]
  },
  {
   "cell_type": "code",
   "execution_count": 12,
   "id": "168b85df",
   "metadata": {},
   "outputs": [
    {
     "data": {
      "text/plain": [
       "array([0, 0, 0, 3, 0, 0, 0, 0, 0, 0, 0, 1, 0, 0, 0, 3, 0, 0, 0, 0, 0, 0,\n",
       "       0, 2, 0, 0, 0, 1, 0, 0, 0, 1, 0, 0, 0, 3, 0, 0, 0, 0, 0, 0, 0, 1,\n",
       "       0, 0, 0, 0, 0, 0, 0, 0, 0, 0, 0, 3, 0, 0, 0, 1, 0, 0, 0, 2, 0, 0,\n",
       "       0, 3, 0, 0, 0, 1, 0, 0, 0, 2, 0, 0, 0, 1, 0, 0, 0, 0, 0, 0, 0, 0,\n",
       "       0, 0, 0, 0, 0, 0, 0, 0, 0, 0, 0, 3, 0, 0, 0, 1, 0, 0, 0, 2, 0, 0,\n",
       "       0, 0, 0, 0, 0, 0, 0, 0, 0, 2, 0, 0, 0, 0, 0, 0, 0, 2, 0, 0, 0, 3,\n",
       "       0, 0, 0, 2, 0, 0, 0, 1, 0, 0, 0, 0, 0, 0, 0, 0, 0, 0, 0, 0, 0, 0,\n",
       "       0, 1, 0, 0, 0, 1, 0, 0, 0, 3, 0, 0, 0, 2, 0, 0, 0, 2, 0, 0, 0, 0,\n",
       "       0, 0, 0, 2, 0, 0, 0, 0, 0, 0, 0, 2, 0, 0, 0, 3, 0, 0, 0, 2, 0, 0,\n",
       "       0, 3, 0, 0, 0, 0, 0, 0, 0, 1, 0, 0, 0, 1, 0, 0, 0, 0, 0, 0, 0, 2,\n",
       "       0, 0, 0, 0, 0, 0, 0, 0, 0, 0, 0, 0, 0, 0, 0, 1, 0, 0, 0, 3, 0, 0,\n",
       "       0, 1, 0, 0, 0, 0, 0, 0, 0, 1, 0, 0, 0, 2, 0, 0, 0, 2, 0, 0, 0, 0,\n",
       "       0, 0, 0, 1, 0, 0, 0, 3, 0, 0, 0, 0, 0, 0, 0, 1], dtype=uint8)"
      ]
     },
     "execution_count": 12,
     "metadata": {},
     "output_type": "execute_result"
    }
   ],
   "source": [
    "rx_data[0]"
   ]
  },
  {
   "cell_type": "code",
   "execution_count": 13,
   "id": "cb96866b",
   "metadata": {},
   "outputs": [
    {
     "data": {
      "text/plain": [
       "array([ 71, 229, 132, 118,  89, 192,  88,  98, 228,   5, 168, 139, 177,\n",
       "        72,   7,  70, 135,  21,  33,  82,  68, 135,  94,  73,  30,  59,\n",
       "       157,  84,  86,  27, 226,  96, 247,  99, 165, 163,  61, 143,  24,\n",
       "        57,  66, 128,  43,  82, 150, 186, 122, 135,  40,  25, 182,  96,\n",
       "       138, 219, 229, 225,  84, 226,  59, 142, 204,  71,  90,  42, 164,\n",
       "       235,  87,  64, 160, 199,  29,  10, 235, 254,  30, 229,  30, 190,\n",
       "       120, 153, 160, 183,  54, 176, 155,  41, 246,  12, 106,  47, 114,\n",
       "        69, 229,  71, 114,  83,  19, 157, 242,  84,  91, 181,  51,  16,\n",
       "       164, 170, 224,  53, 181,  73, 181, 132, 228, 162, 150,  54, 174,\n",
       "       106,  16,   8, 227,  66, 196, 164, 115, 103,  36,  16, 180, 115,\n",
       "        44, 128,  88,  31,  41, 174,   4, 232, 144, 123, 176, 235, 177,\n",
       "       127,  43,  71, 182, 171, 159,  55, 143, 171,  81,  76,  14, 179,\n",
       "        99,  91,  93,  23, 228, 206, 175,  43, 138, 138, 145, 186, 208,\n",
       "       150, 233, 255, 202, 146,  46, 140, 245, 201, 241,  90,  95,  46,\n",
       "       213, 185, 109, 161, 215, 204, 126, 131, 170,  52,   5,  71, 210,\n",
       "       244,  96, 243, 139,  85, 104,  33, 180,  56,  61, 105, 249,  44,\n",
       "        15,  53,  34, 122,  88,  45,  60,  86,  62,   5, 131, 192, 160,\n",
       "       213, 107,  62,  42,  86, 213,  69,  78,  85, 211,  71, 250, 125,\n",
       "       243, 236,   5,  17,  41, 251, 166,  68, 138,  66, 167, 185, 196,\n",
       "        22,  71, 178,  55, 248, 134, 160,  60,  39,  87, 239, 230, 234,\n",
       "       105, 108, 247, 209, 100,  26,   1, 168,  87, 253, 239, 101, 162,\n",
       "         5,  39, 217, 231, 124,  42,  14], dtype=uint8)"
      ]
     },
     "execution_count": 13,
     "metadata": {},
     "output_type": "execute_result"
    }
   ],
   "source": [
    "frame_data"
   ]
  },
  {
   "cell_type": "code",
   "execution_count": 19,
   "id": "6fe58369",
   "metadata": {},
   "outputs": [
    {
     "data": {
      "text/plain": [
       "array([[0, 0, 0, 3, 0, 0, 0, 2, 0, 0, 0, 1, 0, 0, 0, 1, 0, 0, 0, 2, 0, 0,\n",
       "        0, 1, 0, 0, 0, 0, 0, 0, 0, 0, 0, 0, 0, 1, 0, 0, 0, 3, 0, 0, 0, 3,\n",
       "        0, 0, 0, 1, 0, 0, 0, 2, 0, 0, 0, 0, 0, 0, 0, 0, 0, 0, 0, 2, 0, 0,\n",
       "        0, 1, 0, 0, 0, 0, 0, 0, 0, 1, 0, 0, 0, 2, 0, 0, 0, 0, 0, 0, 0, 2,\n",
       "        0, 0, 0, 2, 0, 0, 0, 0, 0, 0, 0, 1, 0, 0, 0, 2, 0, 0, 0, 2, 0, 0,\n",
       "        0, 0, 0, 0, 0, 0, 0, 0, 0, 2, 0, 0, 0, 3, 0, 0, 0, 0, 0, 0, 0, 1,\n",
       "        0, 0, 0, 1, 0, 0, 0, 2, 0, 0, 0, 2, 0, 0, 0, 2, 0, 0, 0, 2, 0, 0,\n",
       "        0, 0, 0, 0, 0, 0, 0, 0, 0, 1, 0, 0, 0, 0, 0, 0, 0, 1, 0, 0, 0, 0,\n",
       "        0, 0, 0, 0, 0, 0, 0, 0, 0, 0, 0, 0, 0, 0, 0, 1, 0, 0, 0, 0, 0, 0,\n",
       "        0, 2, 0, 0, 0, 2, 0, 0, 0, 1, 0, 0, 0, 0, 0, 0, 0, 1, 0, 0, 0, 2,\n",
       "        0, 0, 0, 0, 0, 0, 0, 1, 0, 0, 0, 1, 0, 0, 0, 2, 0, 0, 0, 0, 0, 0,\n",
       "        0, 0, 0, 0, 0, 1, 0, 0, 0, 3, 0, 0, 0, 3, 0, 0, 0, 3, 0, 0, 0, 0,\n",
       "        0, 0, 0, 3, 0, 0, 0, 3, 0, 0, 0, 1, 0, 0, 0, 1]], dtype=uint8)"
      ]
     },
     "execution_count": 19,
     "metadata": {},
     "output_type": "execute_result"
    }
   ],
   "source": [
    "rx_data"
   ]
  },
  {
   "cell_type": "code",
   "execution_count": 13,
   "id": "17e32fb3",
   "metadata": {},
   "outputs": [],
   "source": [
    "send_bytes(frame_data)"
   ]
  },
  {
   "cell_type": "code",
   "execution_count": 18,
   "id": "0fac243e",
   "metadata": {},
   "outputs": [],
   "source": [
    "for i in range(20):\n",
    "    send_frame()\n",
    "    time.sleep(0.01)"
   ]
  },
  {
   "cell_type": "code",
   "execution_count": 41,
   "id": "7cb93bdc",
   "metadata": {},
   "outputs": [],
   "source": [
    "rx_frame_sym = receive_frame()"
   ]
  },
  {
   "cell_type": "code",
   "execution_count": 32,
   "id": "ff1a4dbe",
   "metadata": {},
   "outputs": [],
   "source": [
    "data = np.frombuffer(rx_frame, dtype=np.complex64, count=-1)"
   ]
  },
  {
   "cell_type": "code",
   "execution_count": 33,
   "id": "e47eb5c9",
   "metadata": {},
   "outputs": [
    {
     "data": {
      "text/plain": [
       "16.0"
      ]
     },
     "execution_count": 33,
     "metadata": {},
     "output_type": "execute_result"
    }
   ],
   "source": [
    "data.shape[0]/nfft"
   ]
  },
  {
   "cell_type": "code",
   "execution_count": 1,
   "id": "710e558d",
   "metadata": {},
   "outputs": [],
   "source": [
    "import numpy as np\n",
    "np.set_printoptions(precision=3)\n",
    "from matplotlib import pyplot as plt\n",
    "\n",
    "from gnuradio import OFDM_OOT\n",
    "from gnuradio import analog\n",
    "from gnuradio import blocks\n",
    "from gnuradio import digital\n",
    "from gnuradio import filter\n",
    "from gnuradio import gr\n",
    "from gnuradio import iio\n",
    "\n",
    "from PyQt5 import Qt\n",
    "from gnuradio import qtgui"
   ]
  },
  {
   "cell_type": "code",
   "execution_count": 2,
   "id": "dd624bf0",
   "metadata": {},
   "outputs": [],
   "source": [
    "class pluto_tx_flowgraph():\n",
    "    def __init__(self, fc=int(2.013e9), fs=int(1e6)):\n",
    "        self.iio_pluto_sink = iio.fmcomms2_sink_fc32('ip:192.168.2.1', \n",
    "                                                     [True, True], \n",
    "                                                     int(fs/10), # buffer size\n",
    "                                                     True)\n",
    "        self.iio_pluto_sink.set_frequency(fc)\n",
    "        self.iio_pluto_sink.set_samplerate(fs)\n",
    "        self.iio_pluto_sink.set_bandwidth(2*fs)\n",
    "        self.iio_pluto_sink.set_attenuation(0, 10)\n",
    "        self.iio_pluto_sink.set_filter_params('Auto', '', 0, 0)\n",
    "        self.iio_pluto_sink.set_len_tag_key('')\n",
    "        \n",
    "    def start(self, iq):\n",
    "        tb = gr.top_block()\n",
    "        \n",
    "        src = blocks.vector_source_c(tuple(iq))\n",
    "        tb.connect((src, 0), (self.iio_pluto_sink, 0))\n",
    "        tb.start()\n",
    "        "
   ]
  },
  {
   "cell_type": "code",
   "execution_count": 3,
   "id": "b9f9b5dd",
   "metadata": {},
   "outputs": [],
   "source": [
    "tx = pluto_tx_flowgraph(fc=int(2e9), fs=int(1e6))"
   ]
  },
  {
   "cell_type": "code",
   "execution_count": 4,
   "id": "ca341c09",
   "metadata": {},
   "outputs": [],
   "source": [
    "nfft = 1024\n",
    "ng = 128\n",
    "iq = np.random.choice([1., -1.], nfft) + 1j*np.random.choice([1., -1.], nfft)\n",
    "iq[0] = 0\n",
    "iq_t = np.fft.ifft(iq)\n",
    "iq_t = np.hstack((iq_t[-ng:], iq_t))"
   ]
  },
  {
   "cell_type": "code",
   "execution_count": 54,
   "id": "7617ac86",
   "metadata": {},
   "outputs": [
    {
     "ename": "KeyboardInterrupt",
     "evalue": "",
     "output_type": "error",
     "traceback": [
      "\u001b[0;31m---------------------------------------------------------------------------\u001b[0m",
      "\u001b[0;31mKeyboardInterrupt\u001b[0m                         Traceback (most recent call last)",
      "Input \u001b[0;32mIn [54]\u001b[0m, in \u001b[0;36m<cell line: 2>\u001b[0;34m()\u001b[0m\n\u001b[1;32m      1\u001b[0m \u001b[38;5;28;01mwhile\u001b[39;00m(\u001b[38;5;28;01mTrue\u001b[39;00m):\n\u001b[0;32m----> 2\u001b[0m     \u001b[43mtx\u001b[49m\u001b[38;5;241;43m.\u001b[39;49m\u001b[43mstart\u001b[49m\u001b[43m(\u001b[49m\u001b[43miq_t\u001b[49m\u001b[38;5;241;43m*\u001b[39;49m\u001b[38;5;241;43m100\u001b[39;49m\u001b[43m)\u001b[49m\n",
      "\u001b[0;31mKeyboardInterrupt\u001b[0m: "
     ]
    }
   ],
   "source": [
    "\n",
    "while(True):\n",
    "    tx.start(iq_t*100)"
   ]
  },
  {
   "cell_type": "code",
   "execution_count": 53,
   "id": "d237c6e6",
   "metadata": {},
   "outputs": [],
   "source": [
    "\n",
    "tx.start(iq_t*1000)"
   ]
  }
 ],
 "metadata": {
  "kernelspec": {
   "display_name": "Python 3 (ipykernel)",
   "language": "python",
   "name": "python3"
  },
  "language_info": {
   "codemirror_mode": {
    "name": "ipython",
    "version": 3
   },
   "file_extension": ".py",
   "mimetype": "text/x-python",
   "name": "python",
   "nbconvert_exporter": "python",
   "pygments_lexer": "ipython3",
   "version": "3.10.4"
  }
 },
 "nbformat": 4,
 "nbformat_minor": 5
}
