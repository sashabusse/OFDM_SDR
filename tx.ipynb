{
 "cells": [
  {
   "cell_type": "code",
   "execution_count": 1,
   "id": "710e558d",
   "metadata": {},
   "outputs": [],
   "source": [
    "import numpy as np\n",
    "np.set_printoptions(precision=3)\n",
    "from matplotlib import pyplot as plt\n",
    "\n",
    "from gnuradio import OFDM_OOT\n",
    "from gnuradio import analog\n",
    "from gnuradio import blocks\n",
    "from gnuradio import digital\n",
    "from gnuradio import filter\n",
    "from gnuradio import gr\n",
    "from gnuradio import iio\n",
    "\n",
    "from PyQt5 import Qt\n",
    "from gnuradio import qtgui"
   ]
  },
  {
   "cell_type": "code",
   "execution_count": 2,
   "id": "dd624bf0",
   "metadata": {},
   "outputs": [],
   "source": [
    "class pluto_tx_flowgraph():\n",
    "    def __init__(self, fc=int(2.013e9), fs=int(1e6)):\n",
    "        self.iio_pluto_sink = iio.fmcomms2_sink_fc32('ip:192.168.2.1', \n",
    "                                                     [True, True], \n",
    "                                                     int(fs/10), # buffer size\n",
    "                                                     True)\n",
    "        self.iio_pluto_sink.set_frequency(fc)\n",
    "        self.iio_pluto_sink.set_samplerate(fs)\n",
    "        self.iio_pluto_sink.set_bandwidth(2*fs)\n",
    "        self.iio_pluto_sink.set_attenuation(0, 10)\n",
    "        self.iio_pluto_sink.set_filter_params('Auto', '', 0, 0)\n",
    "        self.iio_pluto_sink.set_len_tag_key('')\n",
    "        \n",
    "    def start(self, iq):\n",
    "        tb = gr.top_block()\n",
    "        \n",
    "        src = blocks.vector_source_c(tuple(iq))\n",
    "        tb.connect((src, 0), (self.iio_pluto_sink, 0))\n",
    "        tb.start()\n",
    "        "
   ]
  },
  {
   "cell_type": "code",
   "execution_count": 3,
   "id": "b9f9b5dd",
   "metadata": {},
   "outputs": [],
   "source": [
    "tx = pluto_tx_flowgraph(fc=int(2e9), fs=int(1e6))"
   ]
  },
  {
   "cell_type": "code",
   "execution_count": 4,
   "id": "ca341c09",
   "metadata": {},
   "outputs": [],
   "source": [
    "nfft = 1024\n",
    "ng = 128\n",
    "iq = np.random.choice([1., -1.], nfft) + 1j*np.random.choice([1., -1.], nfft)\n",
    "iq[0] = 0\n",
    "iq_t = np.fft.ifft(iq)\n",
    "iq_t = np.hstack((iq_t[-ng:], iq_t))"
   ]
  },
  {
   "cell_type": "code",
   "execution_count": 54,
   "id": "7617ac86",
   "metadata": {},
   "outputs": [
    {
     "ename": "KeyboardInterrupt",
     "evalue": "",
     "output_type": "error",
     "traceback": [
      "\u001b[0;31m---------------------------------------------------------------------------\u001b[0m",
      "\u001b[0;31mKeyboardInterrupt\u001b[0m                         Traceback (most recent call last)",
      "Input \u001b[0;32mIn [54]\u001b[0m, in \u001b[0;36m<cell line: 2>\u001b[0;34m()\u001b[0m\n\u001b[1;32m      1\u001b[0m \u001b[38;5;28;01mwhile\u001b[39;00m(\u001b[38;5;28;01mTrue\u001b[39;00m):\n\u001b[0;32m----> 2\u001b[0m     \u001b[43mtx\u001b[49m\u001b[38;5;241;43m.\u001b[39;49m\u001b[43mstart\u001b[49m\u001b[43m(\u001b[49m\u001b[43miq_t\u001b[49m\u001b[38;5;241;43m*\u001b[39;49m\u001b[38;5;241;43m100\u001b[39;49m\u001b[43m)\u001b[49m\n",
      "\u001b[0;31mKeyboardInterrupt\u001b[0m: "
     ]
    }
   ],
   "source": [
    "\n",
    "while(True):\n",
    "    tx.start(iq_t*100)"
   ]
  },
  {
   "cell_type": "code",
   "execution_count": 53,
   "id": "d237c6e6",
   "metadata": {},
   "outputs": [],
   "source": [
    "\n",
    "tx.start(iq_t*1000)"
   ]
  }
 ],
 "metadata": {
  "kernelspec": {
   "display_name": "Python 3 (ipykernel)",
   "language": "python",
   "name": "python3"
  },
  "language_info": {
   "codemirror_mode": {
    "name": "ipython",
    "version": 3
   },
   "file_extension": ".py",
   "mimetype": "text/x-python",
   "name": "python",
   "nbconvert_exporter": "python",
   "pygments_lexer": "ipython3",
   "version": "3.9.7"
  }
 },
 "nbformat": 4,
 "nbformat_minor": 5
}
